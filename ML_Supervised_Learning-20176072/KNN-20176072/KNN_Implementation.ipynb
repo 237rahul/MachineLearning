{
 "cells": [
  {
   "cell_type": "markdown",
   "metadata": {},
   "source": [
    "<h1>Reading The Data File</h1>"
   ]
  },
  {
   "cell_type": "code",
   "execution_count": 101,
   "metadata": {},
   "outputs": [],
   "source": [
    "import scipy"
   ]
  },
  {
   "cell_type": "code",
   "execution_count": 102,
   "metadata": {},
   "outputs": [],
   "source": [
    "from scipy.io import arff"
   ]
  },
  {
   "cell_type": "code",
   "execution_count": 103,
   "metadata": {},
   "outputs": [],
   "source": [
    "dataset=arff.loadarff('trainProdSelection.arff')"
   ]
  },
  {
   "cell_type": "code",
   "execution_count": 104,
   "metadata": {},
   "outputs": [
    {
     "name": "stdout",
     "output_type": "stream",
     "text": [
      "(array([(b'student', b'spend>saving',  6.,  40., 13.62  , 3.28040e+00, b'C1'),\n",
      "       (b'student', b'spend>saving', 11.,  21., 15.32  , 2.02320e+00, b'C1'),\n",
      "       (b'student', b'spend>saving',  7.,  64., 16.55  , 3.12020e+00, b'C1'),\n",
      "       (b'student', b'spend>saving',  3.,  47., 15.71  , 3.40220e+00, b'C1'),\n",
      "       (b'student', b'spend>saving', 15.,  10., 16.96  , 2.28250e+00, b'C1'),\n",
      "       (b'student', b'spend>saving',  6.,  80., 15.5   , 3.73380e+00, b'C1'),\n",
      "       (b'student', b'spend<saving', 10.,  49., 16.86  , 5.86390e+00, b'C1'),\n",
      "       (b'student', b'spend<saving', 10.,  84., 14.66  , 3.18700e+00, b'C1'),\n",
      "       (b'student', b'spend<saving',  9.,  74., 13.86  , 2.38230e+00, b'C1'),\n",
      "       (b'student', b'spend>>saving', 22.,  38., 13.88  , 7.39400e-01, b'C1'),\n",
      "       (b'student', b'spend>>saving', 25.,  30., 15.64  , 3.12820e+00, b'C1'),\n",
      "       (b'student', b'spend>>saving', 31.,  15., 14.4   , 2.39250e+00, b'C1'),\n",
      "       (b'student', b'spend>>saving', 24.,  55., 15.55  , 1.98570e+00, b'C1'),\n",
      "       (b'student', b'spend>>saving', 28.,  85., 13.9   , 4.31470e+00, b'C1'),\n",
      "       (b'student', b'spend<<saving', 25.,  24., 15.09  , 5.19510e+00, b'C1'),\n",
      "       (b'student', b'spend<<saving', 24.,  15., 13.    , 1.61620e+00, b'C1'),\n",
      "       (b'student', b'spend<<saving', 25.,  33., 14.51  , 2.55510e+00, b'C1'),\n",
      "       (b'engineer', b'spend>saving', 23.,  86., 20.04  , 1.35100e+00, b'C1'),\n",
      "       (b'engineer', b'spend>saving', 20.,  69., 19.69  , 7.07140e+00, b'C1'),\n",
      "       (b'engineer', b'spend>saving', 14.,  86., 20.23  , 7.47490e+00, b'C1'),\n",
      "       (b'engineer', b'spend>saving', 41.,  50., 21.    , 6.87010e+00, b'C1'),\n",
      "       (b'engineer', b'spend>saving', 17.,  38., 21.22  , 1.08810e+00, b'C1'),\n",
      "       (b'engineer', b'spend>saving',  6.,  76., 19.46  , 3.17290e+00, b'C1'),\n",
      "       (b'engineer', b'spend>saving', 38.,  61., 20.91  , 3.20210e+00, b'C1'),\n",
      "       (b'engineer', b'spend>saving', 23.,  45., 19.83  , 4.21500e+00, b'C1'),\n",
      "       (b'engineer', b'spend>saving',  9.,  58., 19.66  , 2.45530e+00, b'C1'),\n",
      "       (b'engineer', b'spend>>saving', 46.,  20., 20.54  , 1.64470e+00, b'C1'),\n",
      "       (b'engineer', b'spend>>saving', 53.,  82., 20.93  , 2.70640e+00, b'C1'),\n",
      "       (b'engineer', b'spend>>saving', 31.,  40., 19.43  , 5.76420e+00, b'C1'),\n",
      "       (b'engineer', b'spend>>saving', 41.,  46., 18.5   , 8.34530e+00, b'C1'),\n",
      "       (b'engineer', b'spend<<saving', 39.,  87., 19.95  , 4.05860e+00, b'C1'),\n",
      "       (b'engineer', b'spend<<saving', 28.,  42., 20.55  , 3.06680e+00, b'C1'),\n",
      "       (b'engineer', b'spend<<saving', 52.,  52., 20.08  , 5.00330e+00, b'C1'),\n",
      "       (b'engineer', b'spend<<saving', 40.,  50., 21.58  , 2.62480e+00, b'C1'),\n",
      "       (b'engineer', b'spend<<saving', 45.,  92., 19.67  , 7.32500e+00, b'C1'),\n",
      "       (b'engineer', b'spend<<saving', 33.,  62., 20.8   , 5.81370e+00, b'C1'),\n",
      "       (b'librarian', b'spend>saving',  7.,  10., 18.1751, 1.22250e+00, b'C2'),\n",
      "       (b'librarian', b'spend>saving',  1.,   3., 16.4385, 9.86900e-01, b'C2'),\n",
      "       (b'librarian', b'spend>saving',  2.,   8., 12.4786, 7.50600e-01, b'C2'),\n",
      "       (b'librarian', b'spend>saving',  7.,  11., 15.8298, 5.67200e-01, b'C2'),\n",
      "       (b'librarian', b'spend>saving',  5.,  11., 14.6699, 1.01470e+00, b'C2'),\n",
      "       (b'librarian', b'spend<saving',  7.,  11., 13.4146, 1.72400e-01, b'C2'),\n",
      "       (b'librarian', b'spend<saving',  9.,  10., 17.9944, 2.70800e-01, b'C2'),\n",
      "       (b'librarian', b'spend<saving',  6.,   5., 11.0413, 1.70630e+00, b'C2'),\n",
      "       (b'librarian', b'spend<saving',  3.,  11., 18.254 , 8.71200e-01, b'C2'),\n",
      "       (b'librarian', b'spend<saving',  7.,  10.,  8.8997, 1.95160e+00, b'C2'),\n",
      "       (b'librarian', b'spend<saving',  4.,  11., 19.116 , 8.02700e-01, b'C2'),\n",
      "       (b'librarian', b'spend<saving',  3.,  12., 18.3739, 9.69300e-01, b'C2'),\n",
      "       (b'librarian', b'spend>saving', 11.,  10., 20.0328, 1.26930e+00, b'C2'),\n",
      "       (b'librarian', b'spend>saving',  5.,  11., 14.2322, 8.28600e-01, b'C2'),\n",
      "       (b'professor', b'spend>saving', 10.,   9., 20.5991, 5.52000e-01, b'C2'),\n",
      "       (b'professor', b'spend>saving',  7.,   7.,  8.5076, 1.22300e+00, b'C2'),\n",
      "       (b'professor', b'spend>saving',  7.,  11., 18.1388, 6.95700e-01, b'C2'),\n",
      "       (b'professor', b'spend>saving',  5.,  14., 14.0667, 1.19740e+00, b'C2'),\n",
      "       (b'professor', b'spend>saving',  5.,   8., 13.9065, 1.23920e+00, b'C2'),\n",
      "       (b'professor', b'spend>saving',  8.,   8., 17.6074, 5.68000e-01, b'C2'),\n",
      "       (b'professor', b'spend>saving',  4.,  12., 15.6526, 1.11320e+00, b'C2'),\n",
      "       (b'professor', b'spend<saving',  3.,   5., 21.054 , 1.04480e+00, b'C2'),\n",
      "       (b'professor', b'spend<saving',  4.,   7., 15.0986, 8.85300e-01, b'C2'),\n",
      "       (b'professor', b'spend<saving',  1.,   8., 17.2758, 4.08900e-01, b'C2'),\n",
      "       (b'professor', b'spend<saving',  6.,  17., 18.5944, 7.90000e-01, b'C2'),\n",
      "       (b'professor', b'spend<saving',  5.,  11., 21.4653, 8.35800e-01, b'C2'),\n",
      "       (b'student', b'spend<saving',  6.,  73., 31.75  , 4.82560e+00, b'C3'),\n",
      "       (b'student', b'spend<saving', 11.,  71., 26.31  , 3.40240e+00, b'C3'),\n",
      "       (b'student', b'spend<saving', 11.,  70., 27.86  , 3.88650e+00, b'C3'),\n",
      "       (b'student', b'spend<saving',  7.,  66., 31.39  , 3.59780e+00, b'C3'),\n",
      "       (b'student', b'spend<saving',  9.,  69., 16.74  , 5.45910e+00, b'C3'),\n",
      "       (b'student', b'spend<saving', 14.,  70., 22.03  , 5.05850e+00, b'C3'),\n",
      "       (b'student', b'spend>saving', 12.,  68., 22.79  , 4.75360e+00, b'C3'),\n",
      "       (b'student', b'spend>saving', 13.,  72., 26.19  , 2.64360e+00, b'C3'),\n",
      "       (b'student', b'spend>saving', 10.,  66., 20.09  , 3.99330e+00, b'C3'),\n",
      "       (b'student', b'spend>saving',  5.,  68., 24.24  , 3.77440e+00, b'C3'),\n",
      "       (b'student', b'spend>saving',  5.,  71., 23.79  , 4.69380e+00, b'C3'),\n",
      "       (b'student', b'spend>saving', 11.,  75., 28.83  , 3.32910e+00, b'C3'),\n",
      "       (b'student', b'spend>saving',  8.,  67., 22.87  , 4.27980e+00, b'C3'),\n",
      "       (b'doctor', b'spend>saving', 12., 261., 23.07  , 1.28549e+01, b'C3'),\n",
      "       (b'doctor', b'spend>saving',  6., 279., 26.98  , 8.00120e+00, b'C3'),\n",
      "       (b'doctor', b'spend>saving', 11.,  96., 28.88  , 9.82810e+00, b'C3'),\n",
      "       (b'doctor', b'spend>saving', 12., 347., 25.94  , 1.00092e+01, b'C3'),\n",
      "       (b'doctor', b'spend>saving', 11., 268., 27.58  , 1.25953e+01, b'C3'),\n",
      "       (b'doctor', b'spend>saving',  7., 253., 25.39  , 6.61540e+00, b'C3'),\n",
      "       (b'doctor', b'spend>saving',  9., 162., 25.05  , 7.83700e+00, b'C3'),\n",
      "       (b'doctor', b'spend>saving', 11., 187., 24.78  , 1.25933e+01, b'C3'),\n",
      "       (b'doctor', b'spend>saving',  5., 131., 22.02  , 1.64080e+01, b'C3'),\n",
      "       (b'doctor', b'spend>saving',  8., 137., 22.76  , 1.30995e+01, b'C3'),\n",
      "       (b'doctor', b'spend>saving',  7., 155., 24.91  , 1.06717e+01, b'C3'),\n",
      "       (b'doctor', b'spend>saving', 13., 229., 27.97  , 1.18543e+01, b'C3'),\n",
      "       (b'doctor', b'spend>saving', 15., 292., 23.2   , 1.22331e+01, b'C3'),\n",
      "       (b'doctor', b'spend>saving', 12., 267., 29.43  , 1.78737e+01, b'C3'),\n",
      "       (b'doctor', b'spend>saving',  8., 175., 22.56  , 1.17815e+01, b'C3'),\n",
      "       (b'doctor', b'spend>saving', 11.,  91., 26.94  , 1.48164e+01, b'C3'),\n",
      "       (b'doctor', b'spend>saving',  9., 212., 21.07  , 1.17612e+01, b'C3'),\n",
      "       (b'doctor', b'spend>saving',  7., 163., 22.4   , 9.59710e+00, b'C3'),\n",
      "       (b'doctor', b'spend>saving', 11., 111., 23.58  , 1.29283e+01, b'C3'),\n",
      "       (b'doctor', b'spend>saving', 10., 222., 25.67  , 1.51555e+01, b'C3'),\n",
      "       (b'doctor', b'spend<saving',  9., 187., 23.77  , 1.14248e+01, b'C3'),\n",
      "       (b'doctor', b'spend<saving', 12., 179., 26.53  , 1.33902e+01, b'C3'),\n",
      "       (b'doctor', b'spend<saving',  6., 190., 21.4   , 9.22760e+00, b'C3'),\n",
      "       (b'doctor', b'spend<saving',  8., 191., 24.71  , 1.00510e+01, b'C3'),\n",
      "       (b'doctor', b'spend<saving',  9., 211., 26.34  , 1.38687e+01, b'C3'),\n",
      "       (b'doctor', b'spend<saving', 13., 284., 24.11  , 7.99470e+00, b'C3'),\n",
      "       (b'doctor', b'spend<saving', 15., 206., 24.5   , 1.51431e+01, b'C3'),\n",
      "       (b'doctor', b'spend<saving', 14., 233., 25.54  , 1.45900e+01, b'C3'),\n",
      "       (b'doctor', b'spend<saving', 47.,  51., 18.45  , 5.64940e+00, b'C4'),\n",
      "       (b'doctor', b'spend<saving', 42.,  66., 19.61  , 4.20200e+00, b'C4'),\n",
      "       (b'doctor', b'spend>saving', 40.,  78., 20.28  , 3.61790e+00, b'C4'),\n",
      "       (b'doctor', b'spend>saving', 40.,  61., 20.83  , 1.98960e+00, b'C4'),\n",
      "       (b'doctor', b'spend>saving', 34.,  86., 19.02  , 4.83880e+00, b'C4'),\n",
      "       (b'doctor', b'spend<saving', 59.,  53., 19.9   , 4.28360e+00, b'C4'),\n",
      "       (b'doctor', b'spend<saving', 38.,  88., 20.13  , 2.81930e+00, b'C4'),\n",
      "       (b'doctor', b'spend>saving', 26.,  60., 20.06  , 4.13100e+00, b'C4'),\n",
      "       (b'doctor', b'spend>saving', 37.,  63., 20.37  , 5.73450e+00, b'C4'),\n",
      "       (b'student', b'spend>>saving', 32.,  66., 20.02  , 3.58650e+00, b'C4'),\n",
      "       (b'student', b'spend<<saving', 23.,  68., 21.37  , 2.26670e+00, b'C4'),\n",
      "       (b'student', b'spend>saving', 36.,  43., 20.42  , 3.04370e+00, b'C4'),\n",
      "       (b'student', b'spend<saving', 25.,  41., 20.07  , 4.35560e+00, b'C4'),\n",
      "       (b'student', b'spend>saving', 39.,  56., 20.29  , 2.68810e+00, b'C4'),\n",
      "       (b'student', b'spend<saving', 49.,  60., 20.47  , 4.97170e+00, b'C4'),\n",
      "       (b'student', b'spend>>saving', 64.,  84., 21.78  , 3.84560e+00, b'C4'),\n",
      "       (b'student', b'spend<<saving', 45.,  57., 20.26  , 3.71880e+00, b'C4'),\n",
      "       (b'professor', b'spend>>saving', 44.,  44., 21.51  , 2.66750e+00, b'C4'),\n",
      "       (b'professor', b'spend<<saving', 51.,  16., 20.32  , 2.16080e+00, b'C4'),\n",
      "       (b'professor', b'spend>>saving', 44.,  39., 20.8   , 1.71960e+00, b'C4'),\n",
      "       (b'professor', b'spend<<saving', 53.,  35., 20.58  , 2.54930e+00, b'C4'),\n",
      "       (b'professor', b'spend>saving', 38.,  25., 21.78  , 8.00000e-03, b'C4'),\n",
      "       (b'professor', b'spend<saving', 41.,  54., 19.06  , 3.01320e+00, b'C4'),\n",
      "       (b'professor', b'spend>saving', 33.,  50., 19.08  , 1.73950e+00, b'C4'),\n",
      "       (b'professor', b'spend<saving', 32.,  38., 20.38  , 1.40750e+00, b'C4'),\n",
      "       (b'professor', b'spend>>saving', 34.,  30., 20.91  , 2.40950e+00, b'C4'),\n",
      "       (b'librarian', b'spend<<saving', 48.,  35., 20.15  , 2.44360e+00, b'C4'),\n",
      "       (b'librarian', b'spend>>saving', 41.,  37., 19.8   , 2.81950e+00, b'C4'),\n",
      "       (b'librarian', b'spend<<saving', 22.,  24., 21.49  , 2.73440e+00, b'C4'),\n",
      "       (b'librarian', b'spend>>saving', 58.,  27., 19.38  , 3.02860e+00, b'C4'),\n",
      "       (b'librarian', b'spend<<saving', 47.,  45., 20.81  , 1.55050e+00, b'C4'),\n",
      "       (b'librarian', b'spend>saving', 25.,  40., 21.93  , 1.09240e+00, b'C4'),\n",
      "       (b'librarian', b'spend<saving', 36.,  33., 20.4   , 1.20620e+00, b'C4'),\n",
      "       (b'librarian', b'spend>saving', 42.,  22., 19.14  , 1.53770e+00, b'C4'),\n",
      "       (b'librarian', b'spend<saving', 32.,  25., 22.43  , 3.04280e+00, b'C4'),\n",
      "       (b'engineer', b'spend>>saving', 39.,  62., 19.16  , 3.98470e+00, b'C4'),\n",
      "       (b'engineer', b'spend<<saving', 43.,  69., 20.28  , 3.52980e+00, b'C4'),\n",
      "       (b'engineer', b'spend>>saving', 50.,  55., 20.82  , 3.02170e+00, b'C4'),\n",
      "       (b'engineer', b'spend<<saving', 26.,  49., 21.23  , 4.06930e+00, b'C4'),\n",
      "       (b'engineer', b'spend>>saving', 30.,  44., 19.94  , 4.89970e+00, b'C4'),\n",
      "       (b'engineer', b'spend<<saving', 34.,  72., 20.65  , 5.23480e+00, b'C4'),\n",
      "       (b'engineer', b'spend>saving', 42.,  65., 18.23  , 2.89720e+00, b'C4'),\n",
      "       (b'engineer', b'spend<saving', 53.,  76., 20.06  , 4.40730e+00, b'C4'),\n",
      "       (b'engineer', b'spend>saving', 59.,  55., 19.24  , 2.57250e+00, b'C4'),\n",
      "       (b'engineer', b'spend<saving', 47.,  70., 18.31  , 4.89450e+00, b'C4'),\n",
      "       (b'engineer', b'spend>>saving', 48.,  63., 21.1   , 3.61490e+00, b'C4'),\n",
      "       (b'engineer', b'spend<<saving', 39.,  51., 21.46  , 3.81870e+00, b'C4'),\n",
      "       (b'professor', b'spend>saving', 48.,   5., 20.39  , 1.75360e+00, b'C5'),\n",
      "       (b'professor', b'spend>saving', 51.,   5., 27.6   , 2.45670e+00, b'C5'),\n",
      "       (b'professor', b'spend>saving', 50.,   3., 23.12  , 2.49370e+00, b'C5'),\n",
      "       (b'professor', b'spend>saving', 51.,   3., 29.52  , 2.32710e+00, b'C5'),\n",
      "       (b'professor', b'spend>saving', 50.,   4., 18.8   , 2.99320e+00, b'C5'),\n",
      "       (b'professor', b'spend>saving', 50.,   6., 19.76  , 2.82160e+00, b'C5'),\n",
      "       (b'professor', b'spend>saving', 49.,   7., 28.84  , 3.96000e+00, b'C5'),\n",
      "       (b'professor', b'spend>saving', 49.,   5., 19.42  , 1.87570e+00, b'C5'),\n",
      "       (b'professor', b'spend>saving', 50.,   3., 16.31  , 2.57860e+00, b'C5'),\n",
      "       (b'professor', b'spend>>saving', 49.,   5., 23.51  , 2.76380e+00, b'C5'),\n",
      "       (b'professor', b'spend>>saving', 50.,   5., 22.71  , 3.33580e+00, b'C5'),\n",
      "       (b'professor', b'spend>>saving', 50.,   3., 19.59  , 2.90000e+00, b'C5'),\n",
      "       (b'professor', b'spend>>saving', 50.,   3., 18.03  , 2.94190e+00, b'C5'),\n",
      "       (b'professor', b'spend>>saving', 51.,   6., 26.76  , 2.38790e+00, b'C5'),\n",
      "       (b'professor', b'spend>>saving', 49.,   5., 31.55  , 2.64850e+00, b'C5'),\n",
      "       (b'professor', b'spend>>saving', 49.,   3., 31.06  , 2.23950e+00, b'C5'),\n",
      "       (b'professor', b'spend>>saving', 50.,   5., 31.2   , 2.42230e+00, b'C5'),\n",
      "       (b'professor', b'spend>>saving', 50.,   4., 20.92  , 2.45080e+00, b'C5'),\n",
      "       (b'engineer', b'spend>saving', 50.,  18., 24.01  , 7.38000e-01, b'C5'),\n",
      "       (b'engineer', b'spend>saving', 50.,  18., 21.52  , 1.68710e+00, b'C5'),\n",
      "       (b'engineer', b'spend>saving', 51.,  22., 21.99  , 1.35800e+00, b'C5'),\n",
      "       (b'engineer', b'spend>saving', 49.,  22., 20.27  , 1.23420e+00, b'C5'),\n",
      "       (b'engineer', b'spend>saving', 50.,  22., 21.22  , 5.34000e-01, b'C5'),\n",
      "       (b'engineer', b'spend>saving', 51.,  26., 25.94  , 6.94800e-01, b'C5'),\n",
      "       (b'engineer', b'spend>saving', 50.,  24., 23.87  , 1.57380e+00, b'C5'),\n",
      "       (b'engineer', b'spend>saving', 52.,  14., 16.54  , 1.55690e+00, b'C5'),\n",
      "       (b'engineer', b'spend>saving', 50.,  22., 23.09  , 1.00510e+00, b'C5'),\n",
      "       (b'engineer', b'spend>>saving', 49.,  21., 23.89  , 1.50870e+00, b'C5'),\n",
      "       (b'engineer', b'spend>>saving', 51.,  20., 13.68  , 1.56690e+00, b'C5'),\n",
      "       (b'engineer', b'spend>>saving', 49.,  17., 18.79  , 2.05250e+00, b'C5'),\n",
      "       (b'engineer', b'spend>>saving', 50.,  23., 20.17  , 2.32910e+00, b'C5'),\n",
      "       (b'engineer', b'spend>>saving', 47.,  23., 22.78  , 1.04100e+00, b'C5'),\n",
      "       (b'engineer', b'spend>>saving', 51.,  23., 25.56  , 2.50660e+00, b'C5'),\n",
      "       (b'engineer', b'spend>>saving', 51.,  17., 15.63  , 1.67540e+00, b'C5'),\n",
      "       (b'engineer', b'spend>>saving', 51.,  13., 20.71  , 1.45850e+00, b'C5'),\n",
      "       (b'engineer', b'spend>>saving', 49.,  17., 19.18  , 2.42510e+00, b'C5')],\n",
      "      dtype=[('Type', 'S9'), ('LifeStyle', 'S13'), ('Vacation', '<f8'), ('eCredit', '<f8'), ('salary', '<f8'), ('property', '<f8'), ('label', 'S2')]), Dataset: financial_service\n",
      "\tType's type is nominal, range is ('student', 'engineer', 'librarian', 'professor', 'doctor')\n",
      "\tLifeStyle's type is nominal, range is ('spend<<saving', 'spend<saving', 'spend>saving', 'spend>>saving')\n",
      "\tVacation's type is numeric\n",
      "\teCredit's type is numeric\n",
      "\tsalary's type is numeric\n",
      "\tproperty's type is numeric\n",
      "\tlabel's type is nominal, range is ('C1', 'C2', 'C3', 'C4', 'C5')\n",
      ")\n"
     ]
    }
   ],
   "source": [
    "print(dataset)"
   ]
  },
  {
   "cell_type": "code",
   "execution_count": 105,
   "metadata": {},
   "outputs": [],
   "source": [
    "import pandas as pd"
   ]
  },
  {
   "cell_type": "code",
   "execution_count": 106,
   "metadata": {},
   "outputs": [],
   "source": [
    "trainset=pd.DataFrame(dataset[0])"
   ]
  },
  {
   "cell_type": "code",
   "execution_count": 107,
   "metadata": {},
   "outputs": [
    {
     "data": {
      "text/html": [
       "<div>\n",
       "<style scoped>\n",
       "    .dataframe tbody tr th:only-of-type {\n",
       "        vertical-align: middle;\n",
       "    }\n",
       "\n",
       "    .dataframe tbody tr th {\n",
       "        vertical-align: top;\n",
       "    }\n",
       "\n",
       "    .dataframe thead th {\n",
       "        text-align: right;\n",
       "    }\n",
       "</style>\n",
       "<table border=\"1\" class=\"dataframe\">\n",
       "  <thead>\n",
       "    <tr style=\"text-align: right;\">\n",
       "      <th></th>\n",
       "      <th>Type</th>\n",
       "      <th>LifeStyle</th>\n",
       "      <th>Vacation</th>\n",
       "      <th>eCredit</th>\n",
       "      <th>salary</th>\n",
       "      <th>property</th>\n",
       "      <th>label</th>\n",
       "    </tr>\n",
       "  </thead>\n",
       "  <tbody>\n",
       "    <tr>\n",
       "      <th>0</th>\n",
       "      <td>b'student'</td>\n",
       "      <td>b'spend&gt;saving'</td>\n",
       "      <td>6.0</td>\n",
       "      <td>40.0</td>\n",
       "      <td>13.62</td>\n",
       "      <td>3.2804</td>\n",
       "      <td>b'C1'</td>\n",
       "    </tr>\n",
       "    <tr>\n",
       "      <th>1</th>\n",
       "      <td>b'student'</td>\n",
       "      <td>b'spend&gt;saving'</td>\n",
       "      <td>11.0</td>\n",
       "      <td>21.0</td>\n",
       "      <td>15.32</td>\n",
       "      <td>2.0232</td>\n",
       "      <td>b'C1'</td>\n",
       "    </tr>\n",
       "    <tr>\n",
       "      <th>2</th>\n",
       "      <td>b'student'</td>\n",
       "      <td>b'spend&gt;saving'</td>\n",
       "      <td>7.0</td>\n",
       "      <td>64.0</td>\n",
       "      <td>16.55</td>\n",
       "      <td>3.1202</td>\n",
       "      <td>b'C1'</td>\n",
       "    </tr>\n",
       "    <tr>\n",
       "      <th>3</th>\n",
       "      <td>b'student'</td>\n",
       "      <td>b'spend&gt;saving'</td>\n",
       "      <td>3.0</td>\n",
       "      <td>47.0</td>\n",
       "      <td>15.71</td>\n",
       "      <td>3.4022</td>\n",
       "      <td>b'C1'</td>\n",
       "    </tr>\n",
       "    <tr>\n",
       "      <th>4</th>\n",
       "      <td>b'student'</td>\n",
       "      <td>b'spend&gt;saving'</td>\n",
       "      <td>15.0</td>\n",
       "      <td>10.0</td>\n",
       "      <td>16.96</td>\n",
       "      <td>2.2825</td>\n",
       "      <td>b'C1'</td>\n",
       "    </tr>\n",
       "  </tbody>\n",
       "</table>\n",
       "</div>"
      ],
      "text/plain": [
       "         Type        LifeStyle  Vacation  eCredit  salary  property  label\n",
       "0  b'student'  b'spend>saving'       6.0     40.0   13.62    3.2804  b'C1'\n",
       "1  b'student'  b'spend>saving'      11.0     21.0   15.32    2.0232  b'C1'\n",
       "2  b'student'  b'spend>saving'       7.0     64.0   16.55    3.1202  b'C1'\n",
       "3  b'student'  b'spend>saving'       3.0     47.0   15.71    3.4022  b'C1'\n",
       "4  b'student'  b'spend>saving'      15.0     10.0   16.96    2.2825  b'C1'"
      ]
     },
     "execution_count": 107,
     "metadata": {},
     "output_type": "execute_result"
    }
   ],
   "source": [
    "trainset.head()"
   ]
  },
  {
   "cell_type": "code",
   "execution_count": 108,
   "metadata": {},
   "outputs": [],
   "source": [
    "def Convet_byte_string(dataframe,coloums):\n",
    "    for i in coloums:\n",
    "        dataframe[i]=dataframe[i].str.decode(\"utf-8\")\n",
    "    return dataframe\n",
    "    \n",
    "    "
   ]
  },
  {
   "cell_type": "code",
   "execution_count": 109,
   "metadata": {},
   "outputs": [],
   "source": [
    "trainset=Convet_byte_string(trainset,['Type','LifeStyle','label'])"
   ]
  },
  {
   "cell_type": "code",
   "execution_count": 110,
   "metadata": {},
   "outputs": [
    {
     "data": {
      "text/html": [
       "<div>\n",
       "<style scoped>\n",
       "    .dataframe tbody tr th:only-of-type {\n",
       "        vertical-align: middle;\n",
       "    }\n",
       "\n",
       "    .dataframe tbody tr th {\n",
       "        vertical-align: top;\n",
       "    }\n",
       "\n",
       "    .dataframe thead th {\n",
       "        text-align: right;\n",
       "    }\n",
       "</style>\n",
       "<table border=\"1\" class=\"dataframe\">\n",
       "  <thead>\n",
       "    <tr style=\"text-align: right;\">\n",
       "      <th></th>\n",
       "      <th>Type</th>\n",
       "      <th>LifeStyle</th>\n",
       "      <th>Vacation</th>\n",
       "      <th>eCredit</th>\n",
       "      <th>salary</th>\n",
       "      <th>property</th>\n",
       "      <th>label</th>\n",
       "    </tr>\n",
       "  </thead>\n",
       "  <tbody>\n",
       "    <tr>\n",
       "      <th>0</th>\n",
       "      <td>student</td>\n",
       "      <td>spend&gt;saving</td>\n",
       "      <td>6.0</td>\n",
       "      <td>40.0</td>\n",
       "      <td>13.62</td>\n",
       "      <td>3.2804</td>\n",
       "      <td>C1</td>\n",
       "    </tr>\n",
       "    <tr>\n",
       "      <th>1</th>\n",
       "      <td>student</td>\n",
       "      <td>spend&gt;saving</td>\n",
       "      <td>11.0</td>\n",
       "      <td>21.0</td>\n",
       "      <td>15.32</td>\n",
       "      <td>2.0232</td>\n",
       "      <td>C1</td>\n",
       "    </tr>\n",
       "    <tr>\n",
       "      <th>2</th>\n",
       "      <td>student</td>\n",
       "      <td>spend&gt;saving</td>\n",
       "      <td>7.0</td>\n",
       "      <td>64.0</td>\n",
       "      <td>16.55</td>\n",
       "      <td>3.1202</td>\n",
       "      <td>C1</td>\n",
       "    </tr>\n",
       "    <tr>\n",
       "      <th>3</th>\n",
       "      <td>student</td>\n",
       "      <td>spend&gt;saving</td>\n",
       "      <td>3.0</td>\n",
       "      <td>47.0</td>\n",
       "      <td>15.71</td>\n",
       "      <td>3.4022</td>\n",
       "      <td>C1</td>\n",
       "    </tr>\n",
       "    <tr>\n",
       "      <th>4</th>\n",
       "      <td>student</td>\n",
       "      <td>spend&gt;saving</td>\n",
       "      <td>15.0</td>\n",
       "      <td>10.0</td>\n",
       "      <td>16.96</td>\n",
       "      <td>2.2825</td>\n",
       "      <td>C1</td>\n",
       "    </tr>\n",
       "  </tbody>\n",
       "</table>\n",
       "</div>"
      ],
      "text/plain": [
       "      Type     LifeStyle  Vacation  eCredit  salary  property label\n",
       "0  student  spend>saving       6.0     40.0   13.62    3.2804    C1\n",
       "1  student  spend>saving      11.0     21.0   15.32    2.0232    C1\n",
       "2  student  spend>saving       7.0     64.0   16.55    3.1202    C1\n",
       "3  student  spend>saving       3.0     47.0   15.71    3.4022    C1\n",
       "4  student  spend>saving      15.0     10.0   16.96    2.2825    C1"
      ]
     },
     "execution_count": 110,
     "metadata": {},
     "output_type": "execute_result"
    }
   ],
   "source": [
    "trainset.head()"
   ]
  },
  {
   "cell_type": "code",
   "execution_count": 111,
   "metadata": {},
   "outputs": [
    {
     "data": {
      "image/png": "[encoded data removed]",
      "text/plain": [
       "<Figure size 432x288 with 1 Axes>"
      ]
     },
     "metadata": {},
     "output_type": "display_data"
    },
    {
     "data": {
      "image/png": "[encoded data removed]",
      "text/plain": [
       "<Figure size 432x288 with 1 Axes>"
      ]
     },
     "metadata": {},
     "output_type": "display_data"
    },
    {
     "data": {
      "image/png": "[encoded data removed]",
      "text/plain": [
       "<Figure size 432x288 with 1 Axes>"
      ]
     },
     "metadata": {},
     "output_type": "display_data"
    },
    {
     "data": {
      "image/png": "[encoded data removed]",
      "text/plain": [
       "<Figure size 432x288 with 1 Axes>"
      ]
     },
     "metadata": {},
     "output_type": "display_data"
    }
   ],
   "source": [
    "from matplotlib import pyplot as plt\n",
    "for i in [\"Vacation\",\"eCredit\",\"salary\",\"property\"]:\n",
    "    plt.hist(trainset[i],bins=5)\n",
    "    plt.xlabel(i)\n",
    "    plt.ylabel(\"Observations\")\n",
    "    plt.show()\n",
    "    "
   ]
  },
  {
   "cell_type": "code",
   "execution_count": 112,
   "metadata": {},
   "outputs": [],
   "source": [
    "minValue = trainset.Vacation.min()\n",
    "maxValue = trainset.Vacation.max()\n",
    "trainset.Vacation = trainset.Vacation.apply(lambda x:(x-minValue)/(maxValue-minValue))\n",
    "\n",
    "minValue = trainset.eCredit.min()\n",
    "maxValue = trainset.eCredit.max()\n",
    "trainset.eCredit = trainset.eCredit.apply(lambda x:(x-minValue)/(maxValue-minValue))\n",
    "\n",
    "minValue = trainset.salary.min()\n",
    "maxValue = trainset.salary.max()\n",
    "trainset.salary = trainset.salary.apply(lambda x:(x-minValue)/(maxValue-minValue))\n",
    "\n",
    "minValue = trainset.property.min()\n",
    "maxValue = trainset.property.max()\n",
    "trainset.property = trainset.property.apply(lambda x:(x-minValue)/(maxValue-minValue))"
   ]
  },
  {
   "cell_type": "code",
   "execution_count": 113,
   "metadata": {},
   "outputs": [],
   "source": [
    "valid_set=trainset[0:160]"
   ]
  },
  {
   "cell_type": "code",
   "execution_count": 114,
   "metadata": {},
   "outputs": [
    {
     "name": "stdout",
     "output_type": "stream",
     "text": [
      "          Type      LifeStyle  Vacation   eCredit    salary  property label\n",
      "160  professor  spend>>saving  0.777778  0.005814  0.611056  0.186268    C5\n",
      "161  professor  spend>>saving  0.777778  0.000000  0.476818  0.161874    C5\n",
      "162  professor  spend>>saving  0.777778  0.000000  0.409700  0.164220    C5\n",
      "163  professor  spend>>saving  0.793651  0.008721  0.785306  0.133211    C5\n",
      "164  professor  spend>>saving  0.761905  0.005814  0.991395  0.147797    C5\n"
     ]
    },
    {
     "data": {
      "text/html": [
       "<div>\n",
       "<style scoped>\n",
       "    .dataframe tbody tr th:only-of-type {\n",
       "        vertical-align: middle;\n",
       "    }\n",
       "\n",
       "    .dataframe tbody tr th {\n",
       "        vertical-align: top;\n",
       "    }\n",
       "\n",
       "    .dataframe thead th {\n",
       "        text-align: right;\n",
       "    }\n",
       "</style>\n",
       "<table border=\"1\" class=\"dataframe\">\n",
       "  <thead>\n",
       "    <tr style=\"text-align: right;\">\n",
       "      <th></th>\n",
       "      <th>Type</th>\n",
       "      <th>LifeStyle</th>\n",
       "      <th>Vacation</th>\n",
       "      <th>eCredit</th>\n",
       "      <th>salary</th>\n",
       "      <th>property</th>\n",
       "      <th>label</th>\n",
       "    </tr>\n",
       "  </thead>\n",
       "  <tbody>\n",
       "    <tr>\n",
       "      <th>0</th>\n",
       "      <td>student</td>\n",
       "      <td>spend&gt;saving</td>\n",
       "      <td>0.079365</td>\n",
       "      <td>0.107558</td>\n",
       "      <td>0.219960</td>\n",
       "      <td>0.183167</td>\n",
       "      <td>C1</td>\n",
       "    </tr>\n",
       "    <tr>\n",
       "      <th>1</th>\n",
       "      <td>student</td>\n",
       "      <td>spend&gt;saving</td>\n",
       "      <td>0.158730</td>\n",
       "      <td>0.052326</td>\n",
       "      <td>0.293102</td>\n",
       "      <td>0.112797</td>\n",
       "      <td>C1</td>\n",
       "    </tr>\n",
       "    <tr>\n",
       "      <th>2</th>\n",
       "      <td>student</td>\n",
       "      <td>spend&gt;saving</td>\n",
       "      <td>0.095238</td>\n",
       "      <td>0.177326</td>\n",
       "      <td>0.346023</td>\n",
       "      <td>0.174200</td>\n",
       "      <td>C1</td>\n",
       "    </tr>\n",
       "    <tr>\n",
       "      <th>3</th>\n",
       "      <td>student</td>\n",
       "      <td>spend&gt;saving</td>\n",
       "      <td>0.031746</td>\n",
       "      <td>0.127907</td>\n",
       "      <td>0.309882</td>\n",
       "      <td>0.189984</td>\n",
       "      <td>C1</td>\n",
       "    </tr>\n",
       "    <tr>\n",
       "      <th>4</th>\n",
       "      <td>student</td>\n",
       "      <td>spend&gt;saving</td>\n",
       "      <td>0.222222</td>\n",
       "      <td>0.020349</td>\n",
       "      <td>0.363663</td>\n",
       "      <td>0.127311</td>\n",
       "      <td>C1</td>\n",
       "    </tr>\n",
       "  </tbody>\n",
       "</table>\n",
       "</div>"
      ],
      "text/plain": [
       "      Type     LifeStyle  Vacation   eCredit    salary  property label\n",
       "0  student  spend>saving  0.079365  0.107558  0.219960  0.183167    C1\n",
       "1  student  spend>saving  0.158730  0.052326  0.293102  0.112797    C1\n",
       "2  student  spend>saving  0.095238  0.177326  0.346023  0.174200    C1\n",
       "3  student  spend>saving  0.031746  0.127907  0.309882  0.189984    C1\n",
       "4  student  spend>saving  0.222222  0.020349  0.363663  0.127311    C1"
      ]
     },
     "execution_count": 114,
     "metadata": {},
     "output_type": "execute_result"
    }
   ],
   "source": [
    "train_set=trainset[160:]\n",
    "print(train_set.head())\n",
    "valid_set.head()"
   ]
  },
  {
   "cell_type": "markdown",
   "metadata": {},
   "source": [
    "><h2>Finding Ecucidian Distance</h2>"
   ]
  },
  {
   "cell_type": "code",
   "execution_count": 215,
   "metadata": {},
   "outputs": [],
   "source": [
    "import math\n",
    "def euclideanDistance(instance1,instance2,length):\n",
    "    distance = 0\n",
    "    if(instance1[0]==instance2[0]):\n",
    "        distance += 1\n",
    "    if(instance1[1]!=instance2[1]):\n",
    "        distance += 0\n",
    "    for x in range(2,length,1):        \n",
    "            distance += pow((instance1[x]-instance2[x]),2)\n",
    "    return math.sqrt(distance)"
   ]
  },
  {
   "cell_type": "markdown",
   "metadata": {},
   "source": [
    "<h2>Finding Neighbours</h2>"
   ]
  },
  {
   "cell_type": "code",
   "execution_count": 283,
   "metadata": {},
   "outputs": [],
   "source": [
    "import operator \n",
    "def getNeighbors(trainingSet, testInstance, k):\n",
    "    distances = []\n",
    "#     print(testInstance)\n",
    "    length = len(testInstance)-1\n",
    "    for x in range(len(trainingSet)):\n",
    "        dist = euclideanDistance(testInstance, trainingSet[x], length)\n",
    "#         print(trainingSet[x][-1])\n",
    "        distances.append((trainingSet[x], dist))\n",
    "    distances.sort(key=operator.itemgetter(1))\n",
    "#     print(distances)\n",
    "    neighbors = []\n",
    "    for x in range(k):\n",
    "        neighbors.append(distances[x][0])\n",
    "#     print(neighbors)\n",
    "    return neighbors"
   ]
  },
  {
   "cell_type": "markdown",
   "metadata": {},
   "source": [
    "<h2>Summrizing the neighbours</h2>"
   ]
  },
  {
   "cell_type": "code",
   "execution_count": 284,
   "metadata": {},
   "outputs": [],
   "source": [
    "import operator\n",
    "def getResponse(neighbors):\n",
    "    classVotes = {}\n",
    "    for x in range(len(neighbors)):\n",
    "        response = neighbors[x][-1]\n",
    "        if response in classVotes:\n",
    "            classVotes[response] += 1\n",
    "        else:\n",
    "            classVotes[response] = 1\n",
    "    sortedVotes = sorted(classVotes.items(), key=operator.itemgetter(1), reverse=True)\n",
    "    return sortedVotes[0][0]"
   ]
  },
  {
   "cell_type": "markdown",
   "metadata": {},
   "source": [
    "<h2>Accuracy</h2>"
   ]
  },
  {
   "cell_type": "code",
   "execution_count": 285,
   "metadata": {},
   "outputs": [],
   "source": [
    "def getAccuracy(testSet, predictions):\n",
    "    correct = 0\n",
    "    for x in range(len(testSet)):\n",
    "        if testSet[x][-1] == predictions[x]:\n",
    "            correct += 1\n",
    "    return (correct/float(len(testSet))) * 100.0"
   ]
  },
  {
   "cell_type": "code",
   "execution_count": 286,
   "metadata": {},
   "outputs": [],
   "source": [
    "data = arff.loadarff('testProdSelection.arff')\n",
    "Dtest = pd.DataFrame(data[0])"
   ]
  },
  {
   "cell_type": "code",
   "execution_count": 287,
   "metadata": {},
   "outputs": [],
   "source": [
    "Dtest.Type = Dtest.Type.str.decode(\"UTF-8\")\n",
    "Dtest.LifeStyle = Dtest.LifeStyle.str.decode(\"UTF-8\")\n",
    "Dtest.label = Dtest.label.str.decode(\"UTF-8\")"
   ]
  },
  {
   "cell_type": "code",
   "execution_count": 288,
   "metadata": {},
   "outputs": [],
   "source": [
    "minValue = Dtest.Vacation.min()\n",
    "maxValue = Dtest.Vacation.max()\n",
    "Dtest.Vacation = Dtest.Vacation.apply(lambda x:(x-minValue)/(maxValue-minValue))\n",
    "\n",
    "minValue = Dtest.eCredit.min()\n",
    "maxValue = Dtest.eCredit.max()\n",
    "Dtest.eCredit = Dtest.eCredit.apply(lambda x:(x-minValue)/(maxValue-minValue))\n",
    "\n",
    "minValue = Dtest.salary.min()\n",
    "maxValue = Dtest.salary.max()\n",
    "Dtest.salary = Dtest.salary.apply(lambda x:(x-minValue)/(maxValue-minValue))\n",
    "\n",
    "minValue = Dtest.property.min()\n",
    "maxValue = Dtest.property.max()\n",
    "Dtest.property = Dtest.property.apply(lambda x:(x-minValue)/(maxValue-minValue))"
   ]
  },
  {
   "cell_type": "markdown",
   "metadata": {},
   "source": [
    "<h2>Main</h2>"
   ]
  },
  {
   "cell_type": "code",
   "execution_count": 289,
   "metadata": {},
   "outputs": [],
   "source": [
    "def main(trainingSet,testSet):\n",
    "    # generate predictions\n",
    "    predictions=[]\n",
    "#     print(trainingSet,testSet)\n",
    "    k = 3\n",
    "#     print(testSet.head())\n",
    "    for x in range(len(testSet)):\n",
    "        neighbors = getNeighbors(trainingSet, testSet[x], k)\n",
    "        result = getResponse(neighbors)\n",
    "        predictions.append(result)\n",
    "        print('> predicted=' + repr(result) + ', actual=' + repr(testSet[x][-1]))\n",
    "    accuracy = getAccuracy(testSet, predictions)\n",
    "    print(pd.Series(predictions).value_counts()/len(predictions))\n",
    "    print('Accuracy: ' + repr(accuracy) + '%')"
   ]
  },
  {
   "cell_type": "code",
   "execution_count": 290,
   "metadata": {},
   "outputs": [
    {
     "name": "stdout",
     "output_type": "stream",
     "text": [
      "> predicted='C2', actual='C1'\n",
      "> predicted='C5', actual='C1'\n",
      "> predicted='C4', actual='C1'\n",
      "> predicted='C1', actual='C1'\n",
      "> predicted='C2', actual='C1'\n",
      "> predicted='C2', actual='C1'\n",
      "> predicted='C2', actual='C1'\n",
      "> predicted='C2', actual='C1'\n",
      "> predicted='C1', actual='C1'\n",
      "> predicted='C3', actual='C1'\n",
      "> predicted='C3', actual='C1'\n",
      "> predicted='C1', actual='C1'\n",
      "> predicted='C4', actual='C1'\n",
      "> predicted='C1', actual='C1'\n",
      "> predicted='C4', actual='C1'\n",
      "> predicted='C1', actual='C1'\n",
      "> predicted='C4', actual='C1'\n",
      "> predicted='C4', actual='C1'\n",
      "> predicted='C4', actual='C1'\n",
      "> predicted='C5', actual='C1'\n",
      "> predicted='C4', actual='C1'\n",
      "C4    0.333333\n",
      "C2    0.238095\n",
      "C1    0.238095\n",
      "C3    0.095238\n",
      "C5    0.095238\n",
      "dtype: float64\n",
      "Accuracy: 23.809523809523807%\n"
     ]
    }
   ],
   "source": [
    "main(trainset.values.tolist(),Dtest.values.tolist())"
   ]
  },
  {
   "cell_type": "code",
   "execution_count": 294,
   "metadata": {},
   "outputs": [
    {
     "name": "stdout",
     "output_type": "stream",
     "text": [
      "> predicted='C2', actual='C1'\n",
      "> predicted='C4', actual='C1'\n",
      "> predicted='C4', actual='C1'\n",
      "> predicted='C1', actual='C1'\n",
      "> predicted='C2', actual='C1'\n",
      "> predicted='C1', actual='C1'\n",
      "> predicted='C2', actual='C1'\n",
      "> predicted='C2', actual='C1'\n",
      "> predicted='C1', actual='C1'\n",
      "> predicted='C3', actual='C1'\n",
      "> predicted='C3', actual='C1'\n",
      "> predicted='C1', actual='C1'\n",
      "> predicted='C4', actual='C1'\n",
      "> predicted='C1', actual='C1'\n",
      "> predicted='C1', actual='C1'\n",
      "> predicted='C1', actual='C1'\n",
      "> predicted='C4', actual='C1'\n",
      "> predicted='C4', actual='C1'\n",
      "> predicted='C4', actual='C1'\n",
      "> predicted='C5', actual='C1'\n",
      "> predicted='C4', actual='C1'\n",
      "C4    0.333333\n",
      "C1    0.333333\n",
      "C2    0.190476\n",
      "C3    0.095238\n",
      "C5    0.047619\n",
      "dtype: float64\n",
      "Accuracy: 33.33333333333333%\n"
     ]
    }
   ],
   "source": [
    "main(trainset.values[:,[0,1,2,4,5,6]],Dtest.values[:,[0,1,2,4,5,6]])"
   ]
  }
 ],
 "metadata": {
  "kernelspec": {
   "display_name": "Python 3",
   "language": "python",
   "name": "python3"
  },
  "language_info": {
   "codemirror_mode": {
    "name": "ipython",
    "version": 3
   },
   "file_extension": ".py",
   "mimetype": "text/x-python",
   "name": "python",
   "nbconvert_exporter": "python",
   "pygments_lexer": "ipython3",
   "version": "3.6.5"
  }
 },
 "nbformat": 4,
 "nbformat_minor": 2
}
